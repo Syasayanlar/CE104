{
 "cells": [
  {
   "cell_type": "code",
   "execution_count": 1,
   "metadata": {},
   "outputs": [],
   "source": [
    "import numpy as np\n",
    "import matplotlib.pyplot as plt"
   ]
  },
  {
   "cell_type": "code",
   "execution_count": 2,
   "metadata": {},
   "outputs": [],
   "source": [
    "def f(x):\n",
    "    return x**2 - 5*x  + 1\n",
    "def df(x):\n",
    "    return 2*x - 5"
   ]
  },
  {
   "cell_type": "code",
   "execution_count": 3,
   "metadata": {},
   "outputs": [],
   "source": [
    "# First find roots by using numpy.\n",
    "# to do that roots functions is used"
   ]
  },
  {
   "cell_type": "code",
   "execution_count": 4,
   "metadata": {},
   "outputs": [],
   "source": [
    "coeffs = [1, -5, 1] \n",
    "x_roots = np.roots(coeffs)"
   ]
  },
  {
   "cell_type": "code",
   "execution_count": 7,
   "metadata": {},
   "outputs": [
    {
     "name": "stdout",
     "output_type": "stream",
     "text": [
      "The roots are 4.79129, 0.20871\n"
     ]
    }
   ],
   "source": [
    "print('The roots are {0:.5f}, {1:.5f}'.format(x_roots[0], x_roots[1]))"
   ]
  },
  {
   "cell_type": "code",
   "execution_count": 8,
   "metadata": {},
   "outputs": [],
   "source": [
    "# now compute the roots by using newton's method\n",
    "# x_new = x_n - f(x_n)/df(x_n)\n",
    "# while the ||x_new - x_n || > TOL \n",
    "#    x_new must be computed"
   ]
  },
  {
   "cell_type": "code",
   "execution_count": 22,
   "metadata": {},
   "outputs": [
    {
     "name": "stdout",
     "output_type": "stream",
     "text": [
      "Root found at 0.208712\n"
     ]
    }
   ],
   "source": [
    "TOL = 1e-5\n",
    "diff = 1\n",
    "x_n = -3\n",
    "iter_ = 0\n",
    "while abs(diff) > TOL:\n",
    "    x_new = x_n - f(x_n)/df(x_n)\n",
    "    diff = x_new - x_n\n",
    "    if diff < TOL:\n",
    "        f_converged = True\n",
    "    iter_ += 1\n",
    "    if iter_ > 1000:\n",
    "        print('Not converged after {0:d} steps'.format(iter_))\n",
    "        break\n",
    "    x_n = x_new\n",
    "    \n",
    "if f_converged == True:\n",
    "    print('Root found at {0:5f}'.format(x_new))"
   ]
  },
  {
   "cell_type": "code",
   "execution_count": 23,
   "metadata": {},
   "outputs": [],
   "source": [
    "# now put newtons method into function format"
   ]
  },
  {
   "cell_type": "code",
   "execution_count": 28,
   "metadata": {},
   "outputs": [],
   "source": [
    "def newton(x_n, TOL=1e-6, max_iter=1000):\n",
    "    diff = 1\n",
    "    iter_ = 0\n",
    "    while abs(diff) > TOL and iter_ < max_iter:\n",
    "        x_new = x_n - f(x_n)/df(x_n)\n",
    "        iter_ += 1\n",
    "        diff = x_new - x_n\n",
    "        if diff < TOL:\n",
    "            f_converged = True\n",
    "        if iter_ == max_iter:\n",
    "            f_converged = False\n",
    "        x_n = x_new\n",
    "    return x_n"
   ]
  },
  {
   "cell_type": "code",
   "execution_count": 31,
   "metadata": {},
   "outputs": [],
   "source": [
    "root1 = newton(-3)\n",
    "\n",
    "root2 = newton(10)"
   ]
  },
  {
   "cell_type": "code",
   "execution_count": 32,
   "metadata": {},
   "outputs": [],
   "source": [
    "# now plot the function and roots"
   ]
  },
  {
   "cell_type": "code",
   "execution_count": 37,
   "metadata": {},
   "outputs": [],
   "source": [
    "x0 = -2\n",
    "x1 = 5\n",
    "num_node = 100\n",
    "x = np.linspace(x0, x1, num_node)"
   ]
  },
  {
   "cell_type": "code",
   "execution_count": 57,
   "metadata": {},
   "outputs": [
    {
     "data": {
      "text/plain": [
       "Text(0, 0.5, 'y-axis')"
      ]
     },
     "execution_count": 57,
     "metadata": {},
     "output_type": "execute_result"
    },
    {
     "data": {
      "image/png": "[encoded data removed]",
      "text/plain": [
       "<Figure size 432x288 with 1 Axes>"
      ]
     },
     "metadata": {
      "needs_background": "light"
     },
     "output_type": "display_data"
    }
   ],
   "source": [
    "plt.plot(x,f(x), label='Fuction x^2-5x+1')\n",
    "plt.plot(root1, 0, 'rd', label='Root 1:'+str(root1) )\n",
    "plt.plot(root2, 0, 'ko', label='Root 2'+str(root1) )\n",
    "plt.xlim([x0, x1])\n",
    "plt.grid()\n",
    "plt.legend()\n",
    "plt.xlabel('x-axis')\n",
    "plt.ylabel('y-axis')"
   ]
  },
  {
   "cell_type": "code",
   "execution_count": 50,
   "metadata": {},
   "outputs": [
    {
     "data": {
      "text/latex": [
       "$x^2$\n"
      ],
      "text/plain": [
       "<IPython.core.display.Latex object>"
      ]
     },
     "metadata": {},
     "output_type": "display_data"
    }
   ],
   "source": [
    "%%latex \n",
    "$x^2$"
   ]
  },
  {
   "cell_type": "code",
   "execution_count": null,
   "metadata": {},
   "outputs": [],
   "source": []
  }
 ],
 "metadata": {
  "kernelspec": {
   "display_name": "Python 3",
   "language": "python",
   "name": "python3"
  },
  "language_info": {
   "codemirror_mode": {
    "name": "ipython",
    "version": 3
   },
   "file_extension": ".py",
   "mimetype": "text/x-python",
   "name": "python",
   "nbconvert_exporter": "python",
   "pygments_lexer": "ipython3",
   "version": "3.7.4"
  }
 },
 "nbformat": 4,
 "nbformat_minor": 4
}
